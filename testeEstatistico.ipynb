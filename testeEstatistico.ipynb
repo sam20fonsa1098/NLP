{
 "cells": [
  {
   "cell_type": "code",
   "execution_count": 1,
   "metadata": {},
   "outputs": [],
   "source": [
    "from scipy.stats import shapiro\n",
    "from scipy.stats import ttest_ind\n",
    "from scipy.stats import mannwhitneyu\n",
    "import numpy as np\n",
    "import pandas as pd\n",
    "import matplotlib.pyplot as plt"
   ]
  },
  {
   "cell_type": "code",
   "execution_count": null,
   "metadata": {},
   "outputs": [],
   "source": [
    "df=pd.read_csv('./df_clusters_consolidation_s1_.csv')\n",
    "df.head()"
   ]
  },
  {
   "cell_type": "code",
   "execution_count": null,
   "metadata": {},
   "outputs": [],
   "source": [
    "df=df.drop(columns=['Id'])"
   ]
  },
  {
   "cell_type": "code",
   "execution_count": null,
   "metadata": {},
   "outputs": [],
   "source": [
    "notasDiscretizadas=[]\n",
    "for elemento in df['finalGrade']:\n",
    "    if (elemento>=0.5):\n",
    "        notasDiscretizadas+=[1]\n",
    "    else:\n",
    "        notasDiscretizadas+=[0]"
   ]
  },
  {
   "cell_type": "code",
   "execution_count": null,
   "metadata": {},
   "outputs": [],
   "source": [
    "df['finalGrade']=notasDiscretizadas\n",
    "#df=df.drop(columns='finalGrade')\n",
    "df.head()"
   ]
  },
  {
   "cell_type": "code",
   "execution_count": null,
   "metadata": {},
   "outputs": [],
   "source": [
    "X = df.iloc[:,:-1].values\n",
    "y = df.iloc[:,-1].values"
   ]
  },
  {
   "cell_type": "code",
   "execution_count": null,
   "metadata": {},
   "outputs": [],
   "source": [
    "from imblearn.under_sampling import ClusterCentroids\n",
    "\n",
    "# cc = ClusterCentroids()\n",
    "# X, y = cc.fit_sample(X, y)\n",
    "from imblearn.under_sampling import TomekLinks\n",
    "\n",
    "tl = TomekLinks(return_indices=True, sampling_strategy='majority')\n",
    "X, y, id_tl = tl.fit_sample(X, y)"
   ]
  },
  {
   "cell_type": "code",
   "execution_count": 2,
   "metadata": {},
   "outputs": [],
   "source": [
    "import lightgbm as lgb\n",
    "from sklearn.ensemble import RandomForestClassifier\n",
    "from xgboost import XGBClassifier \n",
    "from sklearn import metrics"
   ]
  },
  {
   "cell_type": "code",
   "execution_count": null,
   "metadata": {},
   "outputs": [],
   "source": [
    "from sklearn.model_selection import StratifiedKFold\n",
    "vetor_X_train=[]\n",
    "vetor_y_train=[]\n",
    "vetor_X_test=[]\n",
    "vetor_y_test=[]\n",
    "split = StratifiedKFold(n_splits=10, random_state=42, shuffle=True)\n",
    "for train_index, val_index in split.split(X, y):\n",
    "    vetor_X_train+=[X[train_index]]\n",
    "    vetor_X_test+=[X[val_index]]\n",
    "    vetor_y_train+=[y[train_index]]\n",
    "    vetor_y_test+=[y[val_index]]"
   ]
  },
  {
   "cell_type": "code",
   "execution_count": null,
   "metadata": {},
   "outputs": [],
   "source": [
    "semente=0\n",
    "dataLgbAuc=[]\n",
    "dataLgbPrecision=[]\n",
    "dataLgbRecall=[]\n",
    "dataLgbF1=[]\n",
    "while(semente<100):\n",
    "    params = {\n",
    "    \"num_leaves\": 100,\n",
    "    \"verbose\": -1,\n",
    "    \"min_data\": 100,\n",
    "    \"max_bin\": 1024,\n",
    "    \"learning_rate\": 0.055,\n",
    "    \"boosting_type\": \"gbdt\",\n",
    "    \"boost_from_average\": True,\n",
    "    \"metric\": \"binary_logloss\",\n",
    "    \"max_features\":0.3,\n",
    "    \"n_estimators\":100,\n",
    "    \"bootstrap\":True, \n",
    "    \"criterion\":\"gini\", \n",
    "    \"min_samples_leaf\":11, \n",
    "    \"min_samples_split\":8,\n",
    "    \"random_state\":semente\n",
    "    }\n",
    "    contador=0\n",
    "    pred=[]\n",
    "    true=[]\n",
    "    while(contador<len(vetor_X_train)):\n",
    "        X_train=vetor_X_train[contador]\n",
    "        y_train=vetor_y_train[contador]\n",
    "        X_test=vetor_X_test[contador]\n",
    "        y_test=vetor_y_test[contador]\n",
    "\n",
    "\n",
    "    #     X_train, y_train,a = tl.fit_sample(X_train, y_train)\n",
    "\n",
    "        d_train = lgb.Dataset(X_train, label=y_train)\n",
    "        d_test = lgb.Dataset(X_test, label=y_test)\n",
    "\n",
    "\n",
    "        model = lgb.train(params, d_train, 10000, valid_sets=[d_test], early_stopping_rounds=100, verbose_eval=1000)\n",
    "        ypred = model.predict(X_test)\n",
    "        ypred = np.where(ypred<0.5,0,1)\n",
    "               \n",
    "        dataLgbF1+=[metrics.f1_score(y_test,ypred)]\n",
    "        dataLgbRecall+=[metrics.recall_score(y_test,ypred)]\n",
    "        dataLgbPrecision+=[metrics.precision_score(y_test,ypred)]\n",
    "        dataLgbAuc+=[metrics.accuracy_score(y_test,ypred)]\n",
    "        \n",
    "        contador+=1\n",
    "    \n",
    "    semente+=1"
   ]
  },
  {
   "cell_type": "code",
   "execution_count": 3,
   "metadata": {},
   "outputs": [],
   "source": [
    "import os\n",
    "PATH = 'Replicacao SBIE - data and code/Programming Profile v4/tabelas_por_lista'\n",
    "years = os.listdir(PATH)"
   ]
  },
  {
   "cell_type": "code",
   "execution_count": 4,
   "metadata": {},
   "outputs": [],
   "source": [
    "dfs = []\n",
    "for year in years:\n",
    "    aux = pd.read_csv(os.path.join(PATH,year,'s1.csv'))\n",
    "    #aux.drop(['blank_line', 'lloc', 'error', 'watson'], axis=1, inplace=True)\n",
    "    aux.drop(['blank_line', 'lloc', 'error'], axis=1, inplace=True)\n",
    "    dfs.append(aux)"
   ]
  },
  {
   "cell_type": "code",
   "execution_count": 5,
   "metadata": {},
   "outputs": [],
   "source": [
    "df = pd.concat(dfs)"
   ]
  },
  {
   "cell_type": "code",
   "execution_count": 6,
   "metadata": {},
   "outputs": [],
   "source": [
    "df.loc[df.copy_paste_proportion>5, 'copy_paste_proportion'] = 5"
   ]
  },
  {
   "cell_type": "code",
   "execution_count": 7,
   "metadata": {},
   "outputs": [
    {
     "name": "stdout",
     "output_type": "stream",
     "text": [
      "Total Students:  2058\n",
      "Total Unique Students:  1655\n",
      "Total Repetents Students:  403\n"
     ]
    }
   ],
   "source": [
    "total_unique_ids = df.Id.unique().size\n",
    "print('Total Students: ', (df.shape[0]))\n",
    "print('Total Unique Students: ', (total_unique_ids))\n",
    "print('Total Repetents Students: ', (df.shape[0] - total_unique_ids))"
   ]
  },
  {
   "cell_type": "code",
   "execution_count": 8,
   "metadata": {},
   "outputs": [],
   "source": [
    "df['class'] = pd.cut(df.Media_final, bins=[0., 4.9999, 10.], right=True, labels=[0, 1], include_lowest=True)"
   ]
  },
  {
   "cell_type": "code",
   "execution_count": 9,
   "metadata": {},
   "outputs": [],
   "source": [
    "df['class'] = df['class'].astype('int')"
   ]
  },
  {
   "cell_type": "code",
   "execution_count": 10,
   "metadata": {},
   "outputs": [],
   "source": [
    "features = df.drop(['Id', 'Media_final', 'class', 'submission_per_exercise','cont_condition', 'cont_cicle',\n",
    "           'sucess_average', 'test_average', 'copy_paste_proportion', 'sintaxe_error'], axis=1).columns.to_list()"
   ]
  },
  {
   "cell_type": "code",
   "execution_count": 11,
   "metadata": {},
   "outputs": [],
   "source": [
    "X, y = df.drop(['Id', 'Media_final', 'class', 'submission_per_exercise','cont_condition', 'cont_cicle',\n",
    "               'sucess_average', 'test_average', 'copy_paste_proportion', 'sintaxe_error'], axis=1).values, df['class'].values"
   ]
  },
  {
   "cell_type": "code",
   "execution_count": 12,
   "metadata": {},
   "outputs": [],
   "source": [
    "from sklearn.model_selection import StratifiedKFold\n",
    "vetor_X_train=[]\n",
    "vetor_y_train=[]\n",
    "vetor_X_test=[]\n",
    "vetor_y_test=[]\n",
    "split = StratifiedKFold(n_splits=10, random_state=42, shuffle=True)\n",
    "for train_index, val_index in split.split(X, y):\n",
    "    vetor_X_train+=[X[train_index]]\n",
    "    vetor_X_test+=[X[val_index]]\n",
    "    vetor_y_train+=[y[train_index]]\n",
    "    vetor_y_test+=[y[val_index]]"
   ]
  },
  {
   "cell_type": "code",
   "execution_count": 24,
   "metadata": {},
   "outputs": [],
   "source": [
    "semente=0\n",
    "dataRFAuc=[]\n",
    "dataRFPrecision=[]\n",
    "dataRFRecall=[]\n",
    "dataRFF1=[]\n",
    "while(semente<20):\n",
    "    contador=0\n",
    "    while(contador<len(vetor_X_train)):\n",
    "        X_train=vetor_X_train[contador]\n",
    "        y_train=vetor_y_train[contador]\n",
    "        X_test=vetor_X_test[contador]\n",
    "        y_test=vetor_y_test[contador]\n",
    "\n",
    "        model = RandomForestClassifier(bootstrap=True, criterion=\"gini\", max_features=0.3, min_samples_leaf=11, min_samples_split=8, n_estimators=100,random_state=semente)\n",
    "        model.fit(X_train,y_train)\n",
    "        ypred = model.predict(X_test)\n",
    "               \n",
    "        dataRFF1+=[metrics.f1_score(y_test,ypred)]\n",
    "        dataRFRecall+=[metrics.recall_score(y_test,ypred)]\n",
    "        dataRFPrecision+=[metrics.precision_score(y_test,ypred)]\n",
    "        dataRFAuc+=[metrics.accuracy_score(y_test,ypred)]\n",
    "        \n",
    "        contador+=1\n",
    "    \n",
    "    semente+=1"
   ]
  },
  {
   "cell_type": "code",
   "execution_count": 14,
   "metadata": {},
   "outputs": [],
   "source": [
    "import pandas as pd\n",
    "import numpy as np\n",
    "import matplotlib.pyplot as plt\n",
    "import os"
   ]
  },
  {
   "cell_type": "code",
   "execution_count": 15,
   "metadata": {},
   "outputs": [],
   "source": [
    "df=pd.read_csv('./NewBaseS1')\n",
    "df = df.drop(columns=['Id'])\n",
    "X = df.iloc[:,:-2].values\n",
    "y = df.iloc[:,-1].values"
   ]
  },
  {
   "cell_type": "code",
   "execution_count": null,
   "metadata": {},
   "outputs": [],
   "source": [
    "from sklearn.preprocessing import MinMaxScaler\n",
    "#from sklearn.preprocessing import StandardScaler\n",
    "sc = MinMaxScaler()\n",
    "X = sc.fit_transform(X)"
   ]
  },
  {
   "cell_type": "code",
   "execution_count": null,
   "metadata": {},
   "outputs": [],
   "source": [
    "X = np.array(X)\n",
    "y = np.array(y)"
   ]
  },
  {
   "cell_type": "code",
   "execution_count": null,
   "metadata": {},
   "outputs": [],
   "source": [
    "from imblearn.under_sampling import TomekLinks\n",
    "\n",
    "tl = TomekLinks(return_indices=True, sampling_strategy='majority')"
   ]
  },
  {
   "cell_type": "code",
   "execution_count": null,
   "metadata": {},
   "outputs": [],
   "source": [
    "X, y, id_tl = tl.fit_sample(X, y)"
   ]
  },
  {
   "cell_type": "code",
   "execution_count": null,
   "metadata": {},
   "outputs": [],
   "source": [
    "from sklearn.model_selection import StratifiedKFold\n"
   ]
  },
  {
   "cell_type": "code",
   "execution_count": null,
   "metadata": {},
   "outputs": [],
   "source": [
    "import keras\n",
    "from keras.models import Sequential\n",
    "from keras.layers import Dense"
   ]
  },
  {
   "cell_type": "code",
   "execution_count": null,
   "metadata": {},
   "outputs": [],
   "source": [
    "from sklearn.preprocessing import LabelEncoder\n",
    "\n",
    "encoder = LabelEncoder()\n",
    "encoder.fit(y)"
   ]
  },
  {
   "cell_type": "code",
   "execution_count": null,
   "metadata": {},
   "outputs": [],
   "source": [
    "from keras.models import Sequential\n",
    "from keras.layers import Dense\n",
    "from keras.wrappers.scikit_learn import KerasClassifier\n",
    "from keras.utils import np_utils\n",
    "from sklearn.model_selection import cross_val_score\n",
    "from sklearn.model_selection import KFold\n",
    "from sklearn.preprocessing import LabelEncoder\n",
    "from sklearn.pipeline import Pipeline\n",
    "from keras.layers import Dropout\n",
    "from keras.preprocessing.text import Tokenizer                    \n",
    "from keras.preprocessing.sequence import pad_sequences\n",
    "from keras import layers"
   ]
  },
  {
   "cell_type": "code",
   "execution_count": null,
   "metadata": {},
   "outputs": [],
   "source": [
    "def baseline_model():\n",
    "    \n",
    "    model = Sequential()\n",
    "    model.add(Dense(64, activation='relu', input_shape=(25,)))\n",
    "    model.add(Dropout(p=0.5))\n",
    "    model.add(Dense(64, activation='relu'))\n",
    "    model.add(Dropout(p=0.5))\n",
    "    model.add(layers.Dense(2, activation='sigmoid'))\n",
    "\n",
    "\n",
    "    model.compile(optimizer='adam',\n",
    "                  loss='binary_crossentropy',\n",
    "                  metrics=['accuracy'])\n",
    "    return model"
   ]
  },
  {
   "cell_type": "code",
   "execution_count": null,
   "metadata": {},
   "outputs": [],
   "source": [
    "from sklearn import metrics"
   ]
  },
  {
   "cell_type": "code",
   "execution_count": null,
   "metadata": {},
   "outputs": [],
   "source": [
    "contador=0\n",
    "predictions=[]\n",
    "semente = 15\n",
    "dataLgbAuc=[]\n",
    "dataLgbPrecision=[]\n",
    "dataLgbRecall=[]\n",
    "dataLgbF1=[]\n",
    "num = 150\n",
    "while(semente < 100):\n",
    "    contador = 0\n",
    "    vetor_X_train=[]\n",
    "    vetor_y_train=[]\n",
    "    vetor_X_test=[]\n",
    "    vetor_y_test=[]\n",
    "    split = StratifiedKFold(n_splits=10, random_state=semente, shuffle=True)\n",
    "    for train_index, val_index in split.split(X, y):\n",
    "        vetor_X_train+=[X[train_index]]\n",
    "        vetor_X_test+=[X[val_index]]\n",
    "        vetor_y_train+=[y[train_index]]\n",
    "        vetor_y_test+=[y[val_index]]\n",
    "        \n",
    "    while(contador<len(vetor_X_train)):\n",
    "        X_train=vetor_X_train[contador]\n",
    "        y_train=vetor_y_train[contador]\n",
    "        X_test=vetor_X_test[contador]\n",
    "        y_test=vetor_y_test[contador]\n",
    "\n",
    "        encoded_y = encoder.transform(y_train)\n",
    "        y_train = np_utils.to_categorical(encoded_y)\n",
    "\n",
    "        estimator = KerasClassifier(build_fn=baseline_model, epochs=200, batch_size=30)\n",
    "        estimator.fit(X_train, y_train)\n",
    "        y_pred = encoder.inverse_transform(estimator.predict(X_test))\n",
    "        predictions+=[y_pred]\n",
    "          \n",
    "        np.savetxt('./resultDL/ytest'+str(num), y_test, fmt='%s')\n",
    "        np.savetxt('./resultDL/ypred'+str(num), y_pred, fmt='%s')\n",
    "        num+=1\n",
    "\n",
    "\n",
    "        contador+=1\n",
    "    semente+=1\n"
   ]
  },
  {
   "cell_type": "code",
   "execution_count": 25,
   "metadata": {},
   "outputs": [],
   "source": [
    "contador = 0\n",
    "dataLgbAuc=[]\n",
    "dataLgbPrecision=[]\n",
    "dataLgbRecall=[]\n",
    "dataLgbF1=[]\n",
    "while(contador < 200):\n",
    "    true = open('./resultDL/ytest'+str(contador))\n",
    "    y_test = []\n",
    "    for linha in true:\n",
    "        y_test +=[int(linha)]\n",
    "        \n",
    "    pred = open('./resultDL/ypred'+str(contador))\n",
    "    ypred = []\n",
    "    for linha in pred:\n",
    "        ypred +=[int(linha)]\n",
    "        \n",
    "    dataLgbF1+=[metrics.f1_score(y_test,ypred)]\n",
    "    dataLgbRecall+=[metrics.recall_score(y_test,ypred)]\n",
    "    dataLgbPrecision+=[metrics.precision_score(y_test,ypred)]\n",
    "    dataLgbAuc+=[metrics.accuracy_score(y_test,ypred)]\n",
    "    \n",
    "    contador +=1"
   ]
  },
  {
   "cell_type": "code",
   "execution_count": 26,
   "metadata": {},
   "outputs": [],
   "source": [
    "d = {\n",
    "    'acc':[dataRFAuc, dataLgbAuc],\n",
    "    'f1':[dataRFF1, dataLgbF1],\n",
    "    'recall':[dataRFRecall, dataLgbRecall],\n",
    "    'precision':[dataRFPrecision, dataLgbPrecision],\n",
    "}"
   ]
  },
  {
   "cell_type": "code",
   "execution_count": 27,
   "metadata": {},
   "outputs": [
    {
     "name": "stdout",
     "output_type": "stream",
     "text": [
      "-------------------\n",
      "4.339972975559379e-31\n",
      "acc\n",
      "Existe diferença estatística (reject H0)\n",
      "2\n",
      "-------------------\n",
      "3.4992877282006244e-57\n",
      "f1\n",
      "Existe diferença estatística (reject H0)\n",
      "-------------------\n",
      "8.945244648431878e-31\n",
      "recall\n",
      "Existe diferença estatística (reject H0)\n",
      "-------------------\n",
      "4.3174455503729174e-32\n",
      "precision\n",
      "Existe diferença estatística (reject H0)\n"
     ]
    }
   ],
   "source": [
    "alpha = 0.05\n",
    "for metric, performance in d.items():\n",
    "    _, p1 = shapiro(performance[0])\n",
    "    _, p2 = shapiro(performance[1])\n",
    "    if (p1 > alpha) and (p2 > alpha):\n",
    "        print(2)\n",
    "        stat, p = ttest_ind(performance[0], performance[1])\n",
    "    else:\n",
    "\t    stat, p = mannwhitneyu(performance[0], performance[1])\n",
    "    print('-------------------')\n",
    "    print(p)\n",
    "    print(metric)\n",
    "    \n",
    "    if p > alpha:\n",
    "\t    print('Não há diferença estatística (fail to reject H0)')\n",
    "    else:\n",
    "\t    print('Existe diferença estatística (reject H0)')"
   ]
  },
  {
   "cell_type": "code",
   "execution_count": 28,
   "metadata": {},
   "outputs": [
    {
     "data": {
      "text/html": [
       "<div>\n",
       "<style scoped>\n",
       "    .dataframe tbody tr th:only-of-type {\n",
       "        vertical-align: middle;\n",
       "    }\n",
       "\n",
       "    .dataframe tbody tr th {\n",
       "        vertical-align: top;\n",
       "    }\n",
       "\n",
       "    .dataframe thead th {\n",
       "        text-align: right;\n",
       "    }\n",
       "</style>\n",
       "<table border=\"1\" class=\"dataframe\">\n",
       "  <thead>\n",
       "    <tr style=\"text-align: right;\">\n",
       "      <th></th>\n",
       "      <th>acc_RF</th>\n",
       "      <th>acc_DL</th>\n",
       "      <th>f1_RF</th>\n",
       "      <th>f1_DL</th>\n",
       "      <th>recall_RF</th>\n",
       "      <th>recall_DL</th>\n",
       "      <th>precision_RF</th>\n",
       "      <th>precision_DL</th>\n",
       "    </tr>\n",
       "  </thead>\n",
       "  <tbody>\n",
       "    <tr>\n",
       "      <th>0</th>\n",
       "      <td>0.762136</td>\n",
       "      <td>0.845361</td>\n",
       "      <td>0.735135</td>\n",
       "      <td>0.827586</td>\n",
       "      <td>0.772727</td>\n",
       "      <td>0.818182</td>\n",
       "      <td>0.701031</td>\n",
       "      <td>0.837209</td>\n",
       "    </tr>\n",
       "    <tr>\n",
       "      <th>1</th>\n",
       "      <td>0.781553</td>\n",
       "      <td>0.768041</td>\n",
       "      <td>0.769231</td>\n",
       "      <td>0.759358</td>\n",
       "      <td>0.852273</td>\n",
       "      <td>0.806818</td>\n",
       "      <td>0.700935</td>\n",
       "      <td>0.717172</td>\n",
       "    </tr>\n",
       "    <tr>\n",
       "      <th>2</th>\n",
       "      <td>0.713592</td>\n",
       "      <td>0.814433</td>\n",
       "      <td>0.697436</td>\n",
       "      <td>0.802198</td>\n",
       "      <td>0.772727</td>\n",
       "      <td>0.829545</td>\n",
       "      <td>0.635514</td>\n",
       "      <td>0.776596</td>\n",
       "    </tr>\n",
       "    <tr>\n",
       "      <th>3</th>\n",
       "      <td>0.839806</td>\n",
       "      <td>0.840206</td>\n",
       "      <td>0.813559</td>\n",
       "      <td>0.832432</td>\n",
       "      <td>0.818182</td>\n",
       "      <td>0.875000</td>\n",
       "      <td>0.808989</td>\n",
       "      <td>0.793814</td>\n",
       "    </tr>\n",
       "    <tr>\n",
       "      <th>4</th>\n",
       "      <td>0.776699</td>\n",
       "      <td>0.788660</td>\n",
       "      <td>0.744444</td>\n",
       "      <td>0.785340</td>\n",
       "      <td>0.752809</td>\n",
       "      <td>0.842697</td>\n",
       "      <td>0.736264</td>\n",
       "      <td>0.735294</td>\n",
       "    </tr>\n",
       "  </tbody>\n",
       "</table>\n",
       "</div>"
      ],
      "text/plain": [
       "     acc_RF    acc_DL     f1_RF     f1_DL  recall_RF  recall_DL  precision_RF  \\\n",
       "0  0.762136  0.845361  0.735135  0.827586   0.772727   0.818182      0.701031   \n",
       "1  0.781553  0.768041  0.769231  0.759358   0.852273   0.806818      0.700935   \n",
       "2  0.713592  0.814433  0.697436  0.802198   0.772727   0.829545      0.635514   \n",
       "3  0.839806  0.840206  0.813559  0.832432   0.818182   0.875000      0.808989   \n",
       "4  0.776699  0.788660  0.744444  0.785340   0.752809   0.842697      0.736264   \n",
       "\n",
       "   precision_DL  \n",
       "0      0.837209  \n",
       "1      0.717172  \n",
       "2      0.776596  \n",
       "3      0.793814  \n",
       "4      0.735294  "
      ]
     },
     "execution_count": 28,
     "metadata": {},
     "output_type": "execute_result"
    }
   ],
   "source": [
    "df = pd.DataFrame()\n",
    "for metric,performance in d.items():\n",
    "    df[metric+'_RF'] = performance[0]\n",
    "    df[metric+'_DL'] = performance[1]\n",
    "df.head()"
   ]
  },
  {
   "cell_type": "code",
   "execution_count": 29,
   "metadata": {},
   "outputs": [
    {
     "data": {
      "image/png": "[encoded data removed]",
      "text/plain": [
       "<Figure size 360x216 with 1 Axes>"
      ]
     },
     "metadata": {
      "needs_background": "light"
     },
     "output_type": "display_data"
    }
   ],
   "source": [
    "color = {'boxes': 'DarkGreen', 'whiskers': 'DarkOrange', 'medians': 'DarkBlue', 'caps': 'Gray'}\n",
    "ax = df.plot.box(rot=90, figsize=(5,3), fontsize=13, color=color, sym='r+')\n",
    "ax.set_ylabel(\"Performance\", fontsize=13);\n",
    "plt.savefig('resultsNews.pdf', format='pdf',bbox_inches='tight');"
   ]
  },
  {
   "cell_type": "code",
   "execution_count": 30,
   "metadata": {},
   "outputs": [
    {
     "data": {
      "text/html": [
       "<div>\n",
       "<style scoped>\n",
       "    .dataframe tbody tr th:only-of-type {\n",
       "        vertical-align: middle;\n",
       "    }\n",
       "\n",
       "    .dataframe tbody tr th {\n",
       "        vertical-align: top;\n",
       "    }\n",
       "\n",
       "    .dataframe thead th {\n",
       "        text-align: right;\n",
       "    }\n",
       "</style>\n",
       "<table border=\"1\" class=\"dataframe\">\n",
       "  <thead>\n",
       "    <tr style=\"text-align: right;\">\n",
       "      <th></th>\n",
       "      <th>acc_RF</th>\n",
       "      <th>acc_DL</th>\n",
       "      <th>f1_RF</th>\n",
       "      <th>f1_DL</th>\n",
       "      <th>recall_RF</th>\n",
       "      <th>recall_DL</th>\n",
       "      <th>precision_RF</th>\n",
       "      <th>precision_DL</th>\n",
       "    </tr>\n",
       "  </thead>\n",
       "  <tbody>\n",
       "    <tr>\n",
       "      <th>count</th>\n",
       "      <td>200.000000</td>\n",
       "      <td>200.000000</td>\n",
       "      <td>200.000000</td>\n",
       "      <td>200.000000</td>\n",
       "      <td>200.000000</td>\n",
       "      <td>200.000000</td>\n",
       "      <td>200.000000</td>\n",
       "      <td>200.000000</td>\n",
       "    </tr>\n",
       "    <tr>\n",
       "      <th>mean</th>\n",
       "      <td>0.782259</td>\n",
       "      <td>0.819432</td>\n",
       "      <td>0.758762</td>\n",
       "      <td>0.810372</td>\n",
       "      <td>0.795343</td>\n",
       "      <td>0.846442</td>\n",
       "      <td>0.726957</td>\n",
       "      <td>0.778867</td>\n",
       "    </tr>\n",
       "    <tr>\n",
       "      <th>std</th>\n",
       "      <td>0.029912</td>\n",
       "      <td>0.024882</td>\n",
       "      <td>0.028527</td>\n",
       "      <td>0.026127</td>\n",
       "      <td>0.031362</td>\n",
       "      <td>0.041968</td>\n",
       "      <td>0.042334</td>\n",
       "      <td>0.033259</td>\n",
       "    </tr>\n",
       "    <tr>\n",
       "      <th>min</th>\n",
       "      <td>0.699029</td>\n",
       "      <td>0.737113</td>\n",
       "      <td>0.683673</td>\n",
       "      <td>0.730159</td>\n",
       "      <td>0.707865</td>\n",
       "      <td>0.741573</td>\n",
       "      <td>0.620370</td>\n",
       "      <td>0.683168</td>\n",
       "    </tr>\n",
       "    <tr>\n",
       "      <th>25%</th>\n",
       "      <td>0.765777</td>\n",
       "      <td>0.804124</td>\n",
       "      <td>0.740331</td>\n",
       "      <td>0.793562</td>\n",
       "      <td>0.772727</td>\n",
       "      <td>0.818182</td>\n",
       "      <td>0.699029</td>\n",
       "      <td>0.754717</td>\n",
       "    </tr>\n",
       "    <tr>\n",
       "      <th>50%</th>\n",
       "      <td>0.781553</td>\n",
       "      <td>0.819588</td>\n",
       "      <td>0.756156</td>\n",
       "      <td>0.811806</td>\n",
       "      <td>0.795455</td>\n",
       "      <td>0.852273</td>\n",
       "      <td>0.731183</td>\n",
       "      <td>0.777778</td>\n",
       "    </tr>\n",
       "    <tr>\n",
       "      <th>75%</th>\n",
       "      <td>0.800000</td>\n",
       "      <td>0.835052</td>\n",
       "      <td>0.776747</td>\n",
       "      <td>0.826269</td>\n",
       "      <td>0.811287</td>\n",
       "      <td>0.875000</td>\n",
       "      <td>0.750000</td>\n",
       "      <td>0.800000</td>\n",
       "    </tr>\n",
       "    <tr>\n",
       "      <th>max</th>\n",
       "      <td>0.849515</td>\n",
       "      <td>0.891753</td>\n",
       "      <td>0.826816</td>\n",
       "      <td>0.883978</td>\n",
       "      <td>0.875000</td>\n",
       "      <td>0.943820</td>\n",
       "      <td>0.820225</td>\n",
       "      <td>0.873563</td>\n",
       "    </tr>\n",
       "  </tbody>\n",
       "</table>\n",
       "</div>"
      ],
      "text/plain": [
       "           acc_RF      acc_DL       f1_RF       f1_DL   recall_RF   recall_DL  \\\n",
       "count  200.000000  200.000000  200.000000  200.000000  200.000000  200.000000   \n",
       "mean     0.782259    0.819432    0.758762    0.810372    0.795343    0.846442   \n",
       "std      0.029912    0.024882    0.028527    0.026127    0.031362    0.041968   \n",
       "min      0.699029    0.737113    0.683673    0.730159    0.707865    0.741573   \n",
       "25%      0.765777    0.804124    0.740331    0.793562    0.772727    0.818182   \n",
       "50%      0.781553    0.819588    0.756156    0.811806    0.795455    0.852273   \n",
       "75%      0.800000    0.835052    0.776747    0.826269    0.811287    0.875000   \n",
       "max      0.849515    0.891753    0.826816    0.883978    0.875000    0.943820   \n",
       "\n",
       "       precision_RF  precision_DL  \n",
       "count    200.000000    200.000000  \n",
       "mean       0.726957      0.778867  \n",
       "std        0.042334      0.033259  \n",
       "min        0.620370      0.683168  \n",
       "25%        0.699029      0.754717  \n",
       "50%        0.731183      0.777778  \n",
       "75%        0.750000      0.800000  \n",
       "max        0.820225      0.873563  "
      ]
     },
     "execution_count": 30,
     "metadata": {},
     "output_type": "execute_result"
    }
   ],
   "source": [
    "df.describe()"
   ]
  },
  {
   "cell_type": "code",
   "execution_count": 31,
   "metadata": {},
   "outputs": [
    {
     "data": {
      "text/html": [
       "<div>\n",
       "<style scoped>\n",
       "    .dataframe tbody tr th:only-of-type {\n",
       "        vertical-align: middle;\n",
       "    }\n",
       "\n",
       "    .dataframe tbody tr th {\n",
       "        vertical-align: top;\n",
       "    }\n",
       "\n",
       "    .dataframe thead th {\n",
       "        text-align: right;\n",
       "    }\n",
       "</style>\n",
       "<table border=\"1\" class=\"dataframe\">\n",
       "  <thead>\n",
       "    <tr style=\"text-align: right;\">\n",
       "      <th></th>\n",
       "      <th>acc_RF</th>\n",
       "      <th>acc_DL</th>\n",
       "      <th>f1_RF</th>\n",
       "      <th>f1_DL</th>\n",
       "      <th>recall_RF</th>\n",
       "      <th>recall_DL</th>\n",
       "      <th>precision_RF</th>\n",
       "      <th>precision_DL</th>\n",
       "    </tr>\n",
       "  </thead>\n",
       "  <tbody>\n",
       "    <tr>\n",
       "      <th>mean</th>\n",
       "      <td>0.782259</td>\n",
       "      <td>0.819432</td>\n",
       "      <td>0.758762</td>\n",
       "      <td>0.810372</td>\n",
       "      <td>0.795343</td>\n",
       "      <td>0.846442</td>\n",
       "      <td>0.726957</td>\n",
       "      <td>0.778867</td>\n",
       "    </tr>\n",
       "    <tr>\n",
       "      <th>std</th>\n",
       "      <td>0.029912</td>\n",
       "      <td>0.024882</td>\n",
       "      <td>0.028527</td>\n",
       "      <td>0.026127</td>\n",
       "      <td>0.031362</td>\n",
       "      <td>0.041968</td>\n",
       "      <td>0.042334</td>\n",
       "      <td>0.033259</td>\n",
       "    </tr>\n",
       "  </tbody>\n",
       "</table>\n",
       "</div>"
      ],
      "text/plain": [
       "        acc_RF    acc_DL     f1_RF     f1_DL  recall_RF  recall_DL  \\\n",
       "mean  0.782259  0.819432  0.758762  0.810372   0.795343   0.846442   \n",
       "std   0.029912  0.024882  0.028527  0.026127   0.031362   0.041968   \n",
       "\n",
       "      precision_RF  precision_DL  \n",
       "mean      0.726957      0.778867  \n",
       "std       0.042334      0.033259  "
      ]
     },
     "execution_count": 31,
     "metadata": {},
     "output_type": "execute_result"
    }
   ],
   "source": [
    "df.agg(['mean','std'])"
   ]
  },
  {
   "cell_type": "code",
   "execution_count": 32,
   "metadata": {},
   "outputs": [],
   "source": [
    "newDataframe = [[\"RandomForest\", \"Deep Learning\", \"Method\"]]\n",
    "for i in range(1, 8):\n",
    "    if (i % 2 != 0):\n",
    "        aux = []\n",
    "        for cada in df.iloc[:, i - 1:i + 1].values:\n",
    "            if (i == 1):\n",
    "                aux +=[[cada[0], cada[1], \"Accuracy\"]]\n",
    "            if (i == 3):\n",
    "                aux +=[[cada[0], cada[1], \"F1-Score\"]]\n",
    "            if (i == 5):\n",
    "                aux +=[[cada[0], cada[1], \"Recall\"]]\n",
    "            if (i == 7):\n",
    "                aux +=[[cada[0], cada[1], \"Precision\"]]\n",
    "        newDataframe +=aux\n",
    "df = pd.DataFrame(newDataframe)\n",
    "df.to_csv('correct.csv', header=None, index=None)\n",
    "df = pd.read_csv(\"correct.csv\")"
   ]
  },
  {
   "cell_type": "code",
   "execution_count": 60,
   "metadata": {},
   "outputs": [
    {
     "data": {
      "image/png": "[encoded data removed]",
      "text/plain": [
       "<Figure size 1440x360 with 4 Axes>"
      ]
     },
     "metadata": {},
     "output_type": "display_data"
    }
   ],
   "source": [
    "import seaborn as sns\n",
    "g = sns.catplot(col = df.columns.values[-1],\n",
    "                kind=\"box\",\n",
    "                data=df)\n",
    "sns.set(font_scale = 1.5)"
   ]
  },
  {
   "cell_type": "code",
   "execution_count": null,
   "metadata": {},
   "outputs": [],
   "source": []
  }
 ],
 "metadata": {
  "kernelspec": {
   "display_name": "Python 3",
   "language": "python",
   "name": "python3"
  },
  "language_info": {
   "codemirror_mode": {
    "name": "ipython",
    "version": 3
   },
   "file_extension": ".py",
   "mimetype": "text/x-python",
   "name": "python",
   "nbconvert_exporter": "python",
   "pygments_lexer": "ipython3",
   "version": "3.7.5"
  }
 },
 "nbformat": 4,
 "nbformat_minor": 2
}
