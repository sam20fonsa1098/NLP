{
 "cells": [
  {
   "cell_type": "code",
   "execution_count": 1,
   "metadata": {},
   "outputs": [],
   "source": [
    "import numpy as np\n",
    "import pandas as pd\n",
    "import matplotlib.pyplot as plt"
   ]
  },
  {
   "cell_type": "code",
   "execution_count": 2,
   "metadata": {},
   "outputs": [
    {
     "data": {
      "text/html": [
       "<div>\n",
       "<style scoped>\n",
       "    .dataframe tbody tr th:only-of-type {\n",
       "        vertical-align: middle;\n",
       "    }\n",
       "\n",
       "    .dataframe tbody tr th {\n",
       "        vertical-align: top;\n",
       "    }\n",
       "\n",
       "    .dataframe thead th {\n",
       "        text-align: right;\n",
       "    }\n",
       "</style>\n",
       "<table border=\"1\" class=\"dataframe\">\n",
       "  <thead>\n",
       "    <tr style=\"text-align: right;\">\n",
       "      <th></th>\n",
       "      <th>category</th>\n",
       "      <th>description</th>\n",
       "      <th>description_process</th>\n",
       "      <th>id</th>\n",
       "      <th>input</th>\n",
       "      <th>output</th>\n",
       "    </tr>\n",
       "  </thead>\n",
       "  <tbody>\n",
       "    <tr>\n",
       "      <th>0</th>\n",
       "      <td>ad-hoc</td>\n",
       "      <td>[&lt;p&gt;&lt;span class=\"tex-font-style-underline\"&gt;Pet...</td>\n",
       "      <td>petya loves lucky numbers very much everybody ...</td>\n",
       "      <td>0</td>\n",
       "      <td>[&lt;div class=\"input-specification\"&gt;&lt;div class=\"...</td>\n",
       "      <td>[&lt;div class=\"output-specification\"&gt;&lt;div class=...</td>\n",
       "    </tr>\n",
       "    <tr>\n",
       "      <th>1</th>\n",
       "      <td>ad-hoc</td>\n",
       "      <td>[&lt;p&gt;Walking through the streets of Marshmallow...</td>\n",
       "      <td>walking through the streets of marshmallow cit...</td>\n",
       "      <td>0</td>\n",
       "      <td>[&lt;div class=\"input-specification\"&gt;&lt;div class=\"...</td>\n",
       "      <td>[&lt;div class=\"output-specification\"&gt;&lt;div class=...</td>\n",
       "    </tr>\n",
       "    <tr>\n",
       "      <th>2</th>\n",
       "      <td>ad-hoc</td>\n",
       "      <td>[&lt;p&gt;Two &lt;span class=\"tex-font-style-bf\"&gt;positi...</td>\n",
       "      <td>two positive integers a and b have a sum of s ...</td>\n",
       "      <td>0</td>\n",
       "      <td>[&lt;div class=\"input-specification\"&gt;&lt;div class=\"...</td>\n",
       "      <td>[&lt;div class=\"output-specification\"&gt;&lt;div class=...</td>\n",
       "    </tr>\n",
       "    <tr>\n",
       "      <th>3</th>\n",
       "      <td>ad-hoc</td>\n",
       "      <td>[&lt;p&gt;Each month Blake gets the report containin...</td>\n",
       "      <td>each month blake gets the report containing ma...</td>\n",
       "      <td>0</td>\n",
       "      <td>[&lt;div class=\"input-specification\"&gt;&lt;div class=\"...</td>\n",
       "      <td>[&lt;div class=\"output-specification\"&gt;&lt;div class=...</td>\n",
       "    </tr>\n",
       "    <tr>\n",
       "      <th>4</th>\n",
       "      <td>ad-hoc</td>\n",
       "      <td>[&lt;p&gt;Andrew and Jerry are playing a game with H...</td>\n",
       "      <td>andrew and jerry are playing a game with harry...</td>\n",
       "      <td>0</td>\n",
       "      <td>[&lt;div class=\"input-specification\"&gt;&lt;div class=\"...</td>\n",
       "      <td>[&lt;div class=\"output-specification\"&gt;&lt;div class=...</td>\n",
       "    </tr>\n",
       "  </tbody>\n",
       "</table>\n",
       "</div>"
      ],
      "text/plain": [
       "  category                                        description  \\\n",
       "0   ad-hoc  [<p><span class=\"tex-font-style-underline\">Pet...   \n",
       "1   ad-hoc  [<p>Walking through the streets of Marshmallow...   \n",
       "2   ad-hoc  [<p>Two <span class=\"tex-font-style-bf\">positi...   \n",
       "3   ad-hoc  [<p>Each month Blake gets the report containin...   \n",
       "4   ad-hoc  [<p>Andrew and Jerry are playing a game with H...   \n",
       "\n",
       "                                 description_process  id  \\\n",
       "0  petya loves lucky numbers very much everybody ...   0   \n",
       "1  walking through the streets of marshmallow cit...   0   \n",
       "2  two positive integers a and b have a sum of s ...   0   \n",
       "3  each month blake gets the report containing ma...   0   \n",
       "4  andrew and jerry are playing a game with harry...   0   \n",
       "\n",
       "                                               input  \\\n",
       "0  [<div class=\"input-specification\"><div class=\"...   \n",
       "1  [<div class=\"input-specification\"><div class=\"...   \n",
       "2  [<div class=\"input-specification\"><div class=\"...   \n",
       "3  [<div class=\"input-specification\"><div class=\"...   \n",
       "4  [<div class=\"input-specification\"><div class=\"...   \n",
       "\n",
       "                                              output  \n",
       "0  [<div class=\"output-specification\"><div class=...  \n",
       "1  [<div class=\"output-specification\"><div class=...  \n",
       "2  [<div class=\"output-specification\"><div class=...  \n",
       "3  [<div class=\"output-specification\"><div class=...  \n",
       "4  [<div class=\"output-specification\"><div class=...  "
      ]
     },
     "execution_count": 2,
     "metadata": {},
     "output_type": "execute_result"
    }
   ],
   "source": [
    "df=pd.read_csv(\"./DataBaseFINAL.csv\")\n",
    "df=df.dropna(axis=0)\n",
    "df.head()"
   ]
  },
  {
   "cell_type": "code",
   "execution_count": 3,
   "metadata": {},
   "outputs": [],
   "source": [
    "contador=0\n",
    "lista=[]\n",
    "while(contador<len(df['category'])):\n",
    "    if(contador==3772 or contador==3815):\n",
    "        contador+=2\n",
    "    if(contador==3785 or contador==4683 or contador==5046):\n",
    "        contador+=1\n",
    "    if(df['category'][contador]=='ad-hoc'):\n",
    "        lista+=[contador]\n",
    "    contador+=1\n",
    "df=df.drop(lista)"
   ]
  },
  {
   "cell_type": "code",
   "execution_count": 4,
   "metadata": {},
   "outputs": [],
   "source": [
    "import spacy\n",
    "nlp = spacy.load('en')"
   ]
  },
  {
   "cell_type": "code",
   "execution_count": 5,
   "metadata": {},
   "outputs": [],
   "source": [
    "master=[]\n",
    "for elemento in df['description_process']:\n",
    "    doc=nlp(elemento)\n",
    "    lista=[]\n",
    "    for token in doc:\n",
    "        if(token.text not in nlp.Defaults.stop_words and token.lemma_ not in nlp.Defaults.stop_words and token.text.isalpha()):\n",
    "            lista+=[token.lemma_]\n",
    "    master+=[' '.join(lista)]"
   ]
  },
  {
   "cell_type": "code",
   "execution_count": 6,
   "metadata": {},
   "outputs": [],
   "source": [
    "df['tokens']=master"
   ]
  },
  {
   "cell_type": "code",
   "execution_count": 7,
   "metadata": {},
   "outputs": [],
   "source": [
    "X = df['tokens'].values\n",
    "y = df['category'].values"
   ]
  },
  {
   "cell_type": "code",
   "execution_count": 8,
   "metadata": {},
   "outputs": [
    {
     "name": "stderr",
     "output_type": "stream",
     "text": [
      "Using TensorFlow backend.\n"
     ]
    }
   ],
   "source": [
    "import keras\n",
    "from keras.models import Sequential\n",
    "from keras.layers import Dense"
   ]
  },
  {
   "cell_type": "code",
   "execution_count": 9,
   "metadata": {},
   "outputs": [
    {
     "data": {
      "text/plain": [
       "LabelEncoder()"
      ]
     },
     "execution_count": 9,
     "metadata": {},
     "output_type": "execute_result"
    }
   ],
   "source": [
    "from sklearn.preprocessing import LabelEncoder\n",
    "X = df['tokens'].values\n",
    "y = df['category'].values\n",
    "encoder = LabelEncoder()\n",
    "encoder.fit(y)"
   ]
  },
  {
   "cell_type": "code",
   "execution_count": 10,
   "metadata": {},
   "outputs": [],
   "source": [
    "from sklearn.model_selection import StratifiedKFold\n",
    "vetor_X_train=[]\n",
    "vetor_y_train=[]\n",
    "vetor_X_test=[]\n",
    "vetor_y_test=[]\n",
    "split = StratifiedKFold(n_splits=10, random_state=42, shuffle=True)\n",
    "for train_index, val_index in split.split(X, y):\n",
    "    vetor_X_train+=[X[train_index]]\n",
    "    vetor_X_test+=[X[val_index]]\n",
    "    vetor_y_train+=[y[train_index]]\n",
    "    vetor_y_test+=[y[val_index]]"
   ]
  },
  {
   "cell_type": "code",
   "execution_count": 11,
   "metadata": {},
   "outputs": [],
   "source": [
    "import pandas\n",
    "from keras.models import Sequential\n",
    "from keras.layers import Dense\n",
    "from keras.wrappers.scikit_learn import KerasClassifier\n",
    "from keras.utils import np_utils\n",
    "from sklearn.model_selection import cross_val_score\n",
    "from sklearn.model_selection import KFold\n",
    "from sklearn.preprocessing import LabelEncoder\n",
    "from sklearn.pipeline import Pipeline\n",
    "from keras.layers import Dropout\n",
    "from keras.preprocessing.text import Tokenizer                    \n",
    "from keras.preprocessing.sequence import pad_sequences\n",
    "from keras import layers"
   ]
  },
  {
   "cell_type": "code",
   "execution_count": 12,
   "metadata": {},
   "outputs": [],
   "source": [
    "tokenizer = Tokenizer(num_words=5000)\n",
    "tokenizer.fit_on_texts(X)\n",
    "\n",
    "vocab_size = len(tokenizer.word_index) + 1   \n",
    "maxlen = 300\n",
    "embedding_dim = 100\n",
    "vocab_size\n",
    "idx_word=tokenizer.index_word"
   ]
  },
  {
   "cell_type": "code",
   "execution_count": null,
   "metadata": {},
   "outputs": [],
   "source": [
    "num_words=vocab_size\n",
    "word_idx=tokenizer.word_index\n",
    "\n",
    "import numpy as np\n",
    "glove_vectors = './glove.6B.50d.txt'\n",
    "glove = np.loadtxt(glove_vectors, dtype='str', comments=None)\n",
    "\n",
    "# Extract the vectors and words\n",
    "vectors = glove[:, 1:].astype('float')\n",
    "words = glove[:, 0]\n",
    "\n",
    "# Create lookup of words to vectors\n",
    "word_lookup = {word: vector for word, vector in zip(words, vectors)}\n",
    "\n",
    "# New matrix to hold word embeddings\n",
    "embedding_matrix = np.zeros((num_words, vectors.shape[1]))\n",
    "\n",
    "for i, word in enumerate(word_idx.keys()):\n",
    "    # Look up the word embedding\n",
    "    vector = word_lookup.get(word, None)\n",
    "\n",
    "    # Record in matrix\n",
    "    if vector is not None:\n",
    "        embedding_matrix[i + 1, :] = vector"
   ]
  },
  {
   "cell_type": "code",
   "execution_count": null,
   "metadata": {},
   "outputs": [],
   "source": [
    "from keras.layers import LSTM, Dense, Dropout, Masking, Embedding\n",
    "def baseline_model():\n",
    "    model = Sequential()\n",
    "\n",
    "    # Embedding layer\n",
    "    model.add(\n",
    "        Embedding(input_dim=vocab_size,\n",
    "                  input_length = 300,\n",
    "                  output_dim=50,\n",
    "                  weights=[embedding_matrix],\n",
    "                  trainable=False,\n",
    "                  mask_zero=True))\n",
    "\n",
    "    # Masking layer for pre-trained embeddings\n",
    "    model.add(Masking(mask_value=0.0))\n",
    "\n",
    "    # Recurrent layer\n",
    "    model.add(LSTM(64, return_sequences=False, \n",
    "                   dropout=0.1, recurrent_dropout=0.1))\n",
    "    \n",
    "     # Recurrent layer\n",
    "    model.add(LSTM(64, return_sequences=False, \n",
    "                   dropout=0.1, recurrent_dropout=0.1))\n",
    "    \n",
    "     # Recurrent layer\n",
    "    model.add(LSTM(64, return_sequences=False, \n",
    "                   dropout=0.1, recurrent_dropout=0.1))\n",
    "    \n",
    "     # Recurrent layer\n",
    "    model.add(LSTM(64, return_sequences=False, \n",
    "                   dropout=0.1, recurrent_dropout=0.1))\n",
    "    \n",
    "    \n",
    "\n",
    "    # Fully connected layer\n",
    "    model.add(layers.Dense(64, activation='relu'))\n",
    "    model.add(Dropout(p=0.1))\n",
    "    model.add(layers.Dense(7, activation='sigmoid'))\n",
    "    \n",
    "    # Compile the model\n",
    "    model.compile(optimizer='adam',\n",
    "                  loss='binary_crossentropy',\n",
    "                  metrics=['accuracy'])\n",
    "\n",
    "    return model"
   ]
  },
  {
   "cell_type": "code",
   "execution_count": null,
   "metadata": {},
   "outputs": [],
   "source": [
    "contador=0\n",
    "predictions=[]\n",
    "while(contador<len(vetor_X_train)):\n",
    "    X_train=vetor_X_train[contador]\n",
    "    y_train=vetor_y_train[contador]\n",
    "    X_test=vetor_X_test[contador]\n",
    "    y_test=vetor_y_test[contador]\n",
    "    \n",
    "    encoded_y = encoder.transform(y_train)\n",
    "    # convert integers to dummy variables (i.e. one hot encoded)\n",
    "    y_train = np_utils.to_categorical(encoded_y)\n",
    "        \n",
    "#     X_train = vectorizer.fit_transform(X_train)\n",
    "    X_train = tokenizer.texts_to_sequences(X_train)\n",
    "    X_test = tokenizer.texts_to_sequences(X_test)\n",
    "    X_train = pad_sequences(X_train, padding='post', maxlen=maxlen)\n",
    "    X_test = pad_sequences(X_test, padding='post', maxlen=maxlen)\n",
    "    \n",
    "    estimator = KerasClassifier(build_fn=baseline_model, epochs=30, batch_size=20)\n",
    "    estimator.fit(X_train, y_train)\n",
    "#     y_pred = estimator.predict(vectorizer.fit_transform(X_test))\n",
    "    y_pred = estimator.predict(X_test)\n",
    "    predictions+=[y_pred]\n",
    "\n",
    "    contador+=1"
   ]
  },
  {
   "cell_type": "code",
   "execution_count": null,
   "metadata": {},
   "outputs": [],
   "source": [
    "y_pred=[]\n",
    "for lista1 in predictions:\n",
    "    for elemento1 in encoder.inverse_transform(lista1):\n",
    "        y_pred+=[elemento1]\n"
   ]
  },
  {
   "cell_type": "code",
   "execution_count": null,
   "metadata": {},
   "outputs": [],
   "source": [
    "y_test_sla=[]\n",
    "for lista2 in vetor_y_test:\n",
    "    for elemento2 in lista2:\n",
    "        y_test_sla+=[elemento2]"
   ]
  },
  {
   "cell_type": "code",
   "execution_count": null,
   "metadata": {},
   "outputs": [],
   "source": [
    "from sklearn import metrics"
   ]
  },
  {
   "cell_type": "code",
   "execution_count": null,
   "metadata": {},
   "outputs": [],
   "source": [
    "print(metrics.confusion_matrix(y_test_sla,y_pred))"
   ]
  },
  {
   "cell_type": "code",
   "execution_count": null,
   "metadata": {},
   "outputs": [],
   "source": [
    "print(metrics.classification_report(y_test_sla,y_pred))"
   ]
  },
  {
   "cell_type": "code",
   "execution_count": null,
   "metadata": {},
   "outputs": [],
   "source": [
    "print(metrics.accuracy_score(y_test_sla,y_pred))"
   ]
  },
  {
   "cell_type": "code",
   "execution_count": null,
   "metadata": {},
   "outputs": [],
   "source": [
    "np.savetxt('ytrue_RNN', y_test_sla, fmt='%s')\n",
    "np.savetxt('ypred_RNN', y_pred, fmt='%s')"
   ]
  }
 ],
 "metadata": {
  "kernelspec": {
   "display_name": "Python 3",
   "language": "python",
   "name": "python3"
  },
  "language_info": {
   "codemirror_mode": {
    "name": "ipython",
    "version": 3
   },
   "file_extension": ".py",
   "mimetype": "text/x-python",
   "name": "python",
   "nbconvert_exporter": "python",
   "pygments_lexer": "ipython3",
   "version": "3.7.5"
  }
 },
 "nbformat": 4,
 "nbformat_minor": 2
}
